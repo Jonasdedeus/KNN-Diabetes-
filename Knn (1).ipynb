{
  "nbformat": 4,
  "nbformat_minor": 0,
  "metadata": {
    "colab": {
      "name": "Knn.ipynb",
      "provenance": [],
      "collapsed_sections": []
    },
    "kernelspec": {
      "name": "python3",
      "display_name": "Python 3"
    }
  },
  "cells": [
    {
      "cell_type": "code",
      "metadata": {
        "id": "HvU0Xb5CCykt"
      },
      "source": [
        "#created by Jonas de Deus Guterres 1301183615\r\n",
        "#Telkom University Indonesia"
      ],
      "execution_count": null,
      "outputs": []
    },
    {
      "cell_type": "markdown",
      "metadata": {
        "id": "9SR9G393CnbA"
      },
      "source": [
        "IMPORT CSV FILE"
      ]
    },
    {
      "cell_type": "code",
      "metadata": {
        "colab": {
          "resources": {
            "http://localhost:8080/nbextensions/google.colab/files.js": {
              "data": "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",
              "ok": true,
              "headers": [
                [
                  "content-type",
                  "application/javascript"
                ]
              ],
              "status": 200,
              "status_text": ""
            }
          },
          "base_uri": "https://localhost:8080/",
          "height": 73
        },
        "id": "FGPFtX_7SmZy",
        "outputId": "f333e545-04d5-4875-d40e-5925d96e9e05"
      },
      "source": [
        "from google.colab import files\n",
        "uploaded = files.upload()"
      ],
      "execution_count": null,
      "outputs": [
        {
          "output_type": "display_data",
          "data": {
            "text/html": [
              "\n",
              "     <input type=\"file\" id=\"files-219ec16c-a248-4a38-b71b-20b6709d8867\" name=\"files[]\" multiple disabled\n",
              "        style=\"border:none\" />\n",
              "     <output id=\"result-219ec16c-a248-4a38-b71b-20b6709d8867\">\n",
              "      Upload widget is only available when the cell has been executed in the\n",
              "      current browser session. Please rerun this cell to enable.\n",
              "      </output>\n",
              "      <script src=\"/nbextensions/google.colab/files.js\"></script> "
            ],
            "text/plain": [
              "<IPython.core.display.HTML object>"
            ]
          },
          "metadata": {
            "tags": []
          }
        },
        {
          "output_type": "stream",
          "text": [
            "Saving Diabetes.csv to Diabetes.csv\n"
          ],
          "name": "stdout"
        }
      ]
    },
    {
      "cell_type": "markdown",
      "metadata": {
        "id": "_IwrCYbbCkj5"
      },
      "source": [
        "LIBRABY"
      ]
    },
    {
      "cell_type": "code",
      "metadata": {
        "id": "SSwSLFhNSqnb"
      },
      "source": [
        "from sklearn.preprocessing import StandardScaler\n",
        "from matplotlib import pyplot as plt\n",
        "import sklearn.preprocessing \n",
        "import pandas as pd\n",
        "import numpy as np\n",
        "import statistics\n",
        "import math\n",
        "import io"
      ],
      "execution_count": 204,
      "outputs": []
    },
    {
      "cell_type": "markdown",
      "metadata": {
        "id": "ITb7aiXZCetN"
      },
      "source": [
        "LOAD DATA"
      ]
    },
    {
      "cell_type": "code",
      "metadata": {
        "id": "KnHwaubPtE6x"
      },
      "source": [
        "def preprocessed(preg,glu,bp,st,ins,bmi,dpf,age):\r\n",
        "  load_Data = []\r\n",
        "  for i in range (len(preg)):\r\n",
        "    diabetes = []\r\n",
        "    j = 0\r\n",
        "    while j < 8:\r\n",
        "      if j == 0:\r\n",
        "        diabetes.append(preg[i])\r\n",
        "      elif j == 1:\r\n",
        "        diabetes.append(glu[i])\r\n",
        "      elif j == 2:\r\n",
        "        diabetes.append(bp[i])\r\n",
        "      elif j == 3:\r\n",
        "        diabetes.append(st[i])\r\n",
        "      elif j == 4:\r\n",
        "        diabetes.append(ins[i])\r\n",
        "      elif j == 5:\r\n",
        "        diabetes.append(bmi[i])\r\n",
        "      elif j == 6:\r\n",
        "        diabetes.append(dpf[i])\r\n",
        "      else:\r\n",
        "        diabetes.append(age[i]) \r\n",
        "      j=j+1\r\n",
        "    load_Data.append(diabetes)\r\n",
        "  return load_Data"
      ],
      "execution_count": 231,
      "outputs": []
    },
    {
      "cell_type": "markdown",
      "metadata": {
        "id": "jHzv3DbvCWKt"
      },
      "source": [
        "STANDARIZATION OF SCALAR"
      ]
    },
    {
      "cell_type": "code",
      "metadata": {
        "id": "nAC9yqWAM3Yv"
      },
      "source": [
        "def standard_scaler(data_feature,label):\r\n",
        "  data_std = []\r\n",
        "  scaler = StandardScaler()\r\n",
        "  feature = scaler.fit_transform(data_feature)\r\n",
        "  for i in range (len(feature)):\r\n",
        "    merge = np.concatenate((feature[i],label[i]),axis=None)\r\n",
        "    data_std.append(merge)\r\n",
        "  return data_std"
      ],
      "execution_count": 230,
      "outputs": []
    },
    {
      "cell_type": "markdown",
      "metadata": {
        "id": "CFzrAhmU_RUm"
      },
      "source": [
        "DISTANCE FUNCTION CALCULATION"
      ]
    },
    {
      "cell_type": "code",
      "metadata": {
        "id": "9TPqQey1Y--h"
      },
      "source": [
        "def euclidian_distance(train_x,test_x):\n",
        "  store2 = []\n",
        "  for i in range(len(test_x)):\n",
        "    store1 = []\n",
        "    for j in range(len(train_x)):\n",
        "      sum = 0\n",
        "      for k in range(7):\n",
        "        x = math.pow((test_x[i][k]-train_x[j][k]),2)\n",
        "        sum = sum + x\n",
        "      total = math.sqrt(sum)\n",
        "      store1.append(total)\n",
        "    store2.append(store1)\n",
        "  return store2"
      ],
      "execution_count": 217,
      "outputs": []
    },
    {
      "cell_type": "markdown",
      "metadata": {
        "id": "BNa0sNvMCKRn"
      },
      "source": [
        "SPLITING AND MERGING"
      ]
    },
    {
      "cell_type": "code",
      "metadata": {
        "id": "OhDt0iYQZDIQ"
      },
      "source": [
        "def splitXY(train_test):\n",
        "  train_testXY = []\n",
        "  for i in range(len(train_test)):\n",
        "    y = train_test[i][8]\n",
        "    train_testXY.append(y)\n",
        "  return train_testXY\n",
        "\n",
        "def mergeXY(data_x,data_y):\n",
        "  allmerge = []\n",
        "  for i in range (len(data_y)):\n",
        "    merge=[]\n",
        "    for j in range(len(data_x)):\n",
        "      merge.append([data_y[i][j],data_x[j]])\n",
        "    allmerge.append(merge)\n",
        "  return allmerge\n",
        "\n",
        "def sortAcs(x):\n",
        "  return x[0]\n",
        "\n",
        "def check_neigbour(k_value,diab,non_diab):\n",
        "  if diab == k_value or diab > non_diab:\n",
        "    return 1\n",
        "  else:\n",
        "    return 0"
      ],
      "execution_count": 232,
      "outputs": []
    },
    {
      "cell_type": "markdown",
      "metadata": {
        "id": "Udi8XeE8A-kD"
      },
      "source": [
        "KNN CLASSIFICATION\r\n"
      ]
    },
    {
      "cell_type": "code",
      "metadata": {
        "id": "ScrnwVpqir4m"
      },
      "source": [
        "def classification(k_value,merge_xy,test_y):\r\n",
        "  sum = 0\r\n",
        "  for i in range (len(merge_xy)):\r\n",
        "    diab,non_diab = 0,0\r\n",
        "    merge = merge_xy[i]\r\n",
        "    merge.sort(reverse=False,key=sortAcs)\r\n",
        "    for j in range (k_value):\r\n",
        "      neigbour = merge[j][1]\r\n",
        "      if neigbour == 1.0:\r\n",
        "        diab  = diab + 1\r\n",
        "      else:\r\n",
        "        non_diab = non_diab + 1\r\n",
        "    predict = check_neigbour(k_value,diab,non_diab)\r\n",
        "    if predict == test_y[i]:\r\n",
        "      sum = sum + 1\r\n",
        "  total = (sum/len(test_y))*100\r\n",
        "  return total"
      ],
      "execution_count": 233,
      "outputs": []
    },
    {
      "cell_type": "markdown",
      "metadata": {
        "id": "dRdMxvoUBMki"
      },
      "source": [
        "CROSS VALIDATION"
      ]
    },
    {
      "cell_type": "code",
      "metadata": {
        "id": "6mBNG_fIZMHI"
      },
      "source": [
        "def cross_validation(k_val,er1,er2,er3,er4,er5,test_y1,test_y2,test_y3,test_y4,test_y5):\n",
        "  avg = []\n",
        "  for i in range (k_val):\n",
        "    idx = i+1\n",
        "    fold1 = classification(idx,er1,test_y1)\n",
        "    fold2 = classification(idx,er2,test_y2)\n",
        "    fold3 = classification(idx,er3,test_y3)\n",
        "    fold4 = classification(idx,er4,test_y4)\n",
        "    fold5 = classification(idx,er5,test_y5)\n",
        "    average = statistics.mean([fold1,fold2,fold3,fold4,fold5])\n",
        "    avg.append(average)\n",
        "  return avg"
      ],
      "execution_count": 234,
      "outputs": []
    },
    {
      "cell_type": "markdown",
      "metadata": {
        "id": "RKS6JUrsBzJj"
      },
      "source": [
        "DATA PREPROCCESSED"
      ]
    },
    {
      "cell_type": "code",
      "metadata": {
        "id": "Cy9qa7LrZPTm"
      },
      "source": [
        "diabetes = pd.read_csv(io.BytesIO(uploaded['Diabetes.csv']))\n",
        "preg = diabetes['Pregnancies'].to_numpy()\n",
        "glu = diabetes['Glucose'].to_numpy()\n",
        "bp = diabetes['BloodPressure'].to_numpy()\n",
        "st = diabetes['SkinThickness'].to_numpy()\n",
        "ins = diabetes['Insulin'].to_numpy()\n",
        "BMI = diabetes['BMI'].to_numpy()\n",
        "DPF = diabetes['DiabetesPedigreeFunction'].to_numpy()\n",
        "age = diabetes['Age'].to_numpy()\n",
        "label = diabetes['Outcome'].to_numpy()\n",
        "\n",
        "data_feature = preprocessed(preg,glu,bp,st,ins,BMI,DPF,age)\n",
        "data_preprocessed = standard_scaler(data_feature,label)\n",
        "\n",
        "train1, test1 = data_preprocessed[:614],  data_preprocessed[614:]\n",
        "train2, test2 = data_preprocessed[:461]+data_preprocessed[614:],  data_preprocessed[461:614]\n",
        "train3, test3 = data_preprocessed[:307]+data_preprocessed[461:],  data_preprocessed[307:461]\n",
        "train4, test4 = data_preprocessed[:154]+data_preprocessed[307:],  data_preprocessed[154:307]\n",
        "train5, test5 = data_preprocessed[154:],  data_preprocessed[:154]\n",
        "\n",
        "er1 = euclidian_distance(train1,test1)\n",
        "er2 = euclidian_distance(train2,test2)\n",
        "er3 = euclidian_distance(train3,test3)\n",
        "er4 = euclidian_distance(train4,test4)\n",
        "er5 = euclidian_distance(train5,test5)\n",
        "\n",
        "train_y1 = splitXY(train1)\n",
        "test_y1 = splitXY(test1)\n",
        "train_y2 = splitXY(train2)\n",
        "test_y2 = splitXY(test2) \n",
        "train_y3 = splitXY(train3)\n",
        "test_y3 = splitXY(test3) \n",
        "train_y4 = splitXY(train4)\n",
        "test_y4= splitXY(test4) \n",
        "train_y5 = splitXY(train5)\n",
        "test_y5 = splitXY(test5) \n",
        "\n",
        "merge1 = mergeXY(train_y1,er1)\n",
        "merge2 = mergeXY(train_y2,er2)\n",
        "merge3 = mergeXY(train_y3,er3)\n",
        "merge4 = mergeXY(train_y4,er4)\n",
        "merge5 = mergeXY(train_y5,er5)\n"
      ],
      "execution_count": 235,
      "outputs": []
    },
    {
      "cell_type": "markdown",
      "metadata": {
        "id": "PSNKzRSUBfVH"
      },
      "source": [
        "SELECTION AND ESTIMATION"
      ]
    },
    {
      "cell_type": "code",
      "metadata": {
        "id": "7LUWhGt48Eo2",
        "outputId": "8033ec32-fdce-4ecf-fe83-e56db014c3ee",
        "colab": {
          "base_uri": "https://localhost:8080/"
        }
      },
      "source": [
        "k_val = 30\r\n",
        "accuracy = 0\r\n",
        "\r\n",
        "foldVal = cross_validation(k_val,merge1,merge2,merge3,merge4,merge5,test_y1,test_y2,test_y3,test_y4,test_y5)\r\n",
        "for i in range (len(foldVal)):\r\n",
        "  if foldVal[i]>accuracy:\r\n",
        "    accuracy = foldVal[i]\r\n",
        "    index = i + 1\r\n",
        "print('Best k value of kNN learning is:',index,'with accuracy:',round(accuracy),'%')"
      ],
      "execution_count": 262,
      "outputs": [
        {
          "output_type": "stream",
          "text": [
            "Best k value of kNN learning is: 21 with accuracy: 76 %\n"
          ],
          "name": "stdout"
        }
      ]
    },
    {
      "cell_type": "code",
      "metadata": {
        "id": "hz8fi-_3Ev-J",
        "outputId": "ecbcd4aa-7ba5-4b74-93e5-e81a8e3477a2",
        "colab": {
          "base_uri": "https://localhost:8080/",
          "height": 383
        }
      },
      "source": [
        "y = foldVal\r\n",
        "x = [1,2,3,4,5,6,7,8,9,10,11,12,13,14,15,16,17,18,19,20,21,22,23,24,25,26,27,28,29,30]\r\n",
        "fig = plt.figure()\r\n",
        "ax=fig.add_axes([0,0,1,1])\r\n",
        "ax.set_title('KNN Diabetes Estimation')\r\n",
        "ax.set_xlabel('Accuracy (%)')\r\n",
        "ax.set_ylabel('k')\r\n",
        "\r\n",
        "plt.plot(y,x,'-o',label='curve2')"
      ],
      "execution_count": 263,
      "outputs": [
        {
          "output_type": "execute_result",
          "data": {
            "text/plain": [
              "[<matplotlib.lines.Line2D at 0x7fece5e5b860>]"
            ]
          },
          "metadata": {
            "tags": []
          },
          "execution_count": 263
        },
        {
          "output_type": "display_data",
          "data": {
            "image/png": "[encoded data removed]",
            "text/plain": [
              "<Figure size 432x288 with 1 Axes>"
            ]
          },
          "metadata": {
            "tags": [],
            "needs_background": "light"
          }
        }
      ]
    }
  ]
}
